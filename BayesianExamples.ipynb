{
  "nbformat": 4,
  "nbformat_minor": 0,
  "metadata": {
    "colab": {
      "name": "BayesianExamples.ipynb",
      "provenance": [],
      "collapsed_sections": [],
      "authorship_tag": "ABX9TyO/0f7twLOlltrTXMmotQf4",
      "include_colab_link": true
    },
    "kernelspec": {
      "name": "python3",
      "display_name": "Python 3"
    }
  },
  "cells": [
    {
      "cell_type": "markdown",
      "metadata": {
        "id": "view-in-github",
        "colab_type": "text"
      },
      "source": [
        "<a href=\"https://colab.research.google.com/github/rushilg99/BayesianInference/blob/master/BayesianExamples.ipynb\" target=\"_parent\"><img src=\"https://colab.research.google.com/assets/colab-badge.svg\" alt=\"Open In Colab\"/></a>"
      ]
    },
    {
      "cell_type": "code",
      "metadata": {
        "id": "iC8GA8vOBuZu",
        "colab_type": "code",
        "colab": {}
      },
      "source": [
        "# In the 2019/20 academic year, I took Prof. Wilfrid Kendall's course on Mathematical Statistics at the University of Warwick\n",
        "# This course focused on statistical inference from the perspective of a frequentist.\n",
        "# In this notebook, I take the numerous examples that Wilfrid gave and see what happens when I consider them as a bayesian.\n",
        "# The main reason that I am doing this is to visualise how priors change upon seeing new evidence (and it can only help my python skills!)\n",
        "\n",
        "import numpy as np\n",
        "import matplotlib.pyplot as plt\n",
        "import pymc3 as pm\n",
        "import scipy.stats as stats"
      ],
      "execution_count": 1,
      "outputs": []
    },
    {
      "cell_type": "code",
      "metadata": {
        "id": "t0pSs5amE8JT",
        "colab_type": "code",
        "colab": {
          "base_uri": "https://localhost:8080/",
          "height": 371
        },
        "outputId": "51b043bd-f9f9-4467-f0b8-6b31cb6b41f9"
      },
      "source": [
        "# (1a) What proportion theta of a hominid population carry a certain genetic marker?\n",
        "#      Suppose we have tested 3 people x_1 = 1, x_2 = 1, x_3 = 0.\n",
        "#      Model each as observations of iid X_i ~ Bern(theta) random variables\n",
        "\n",
        "#      Maximum likelihood estimate for theta is 2/3.\n",
        "#      I choose a uniform prior for theta, since I don't have any prior preferences or knowledge.\n",
        "\n",
        "print(\"\\u03F4 is the true population proportion of the number of people who carry a genetic marker\\n\")\n",
        "data = np.asarray([1,1,0])\n",
        "dom = np.linspace(-1,2,num=1000)\n",
        "\n",
        "# Prior\n",
        "\n",
        "fig = plt.figure(figsize=(15,4))\n",
        "fig.add_subplot(121)\n",
        "plt.title(r\"Uniform prior for $\\theta$\")\n",
        "plt.plot(dom,stats.uniform.pdf(dom))\n",
        "plt.ylabel(\"Density\")\n",
        "plt.xlabel(r\"Possible values that $\\theta$ could take\")\n",
        "\n",
        "# Posterior\n",
        "#          Use definition of conditional density p(theta|y)=p(y|theta)p(theta)/p(y).\n",
        "#          p(y) is a normalisation factor, so I can disregard this and use the trapezium rule later to normalise.\n",
        "#          p(theta) is the density of our prior, which we already know.\n",
        "#          p(y|theta) = P(X_1=1,X_2=1,X_3=0|theta) = P(X_1=1|theta)P(X_2=1|theta)P(X_3=0|theta)\n",
        "\n",
        "likelihood = np.asarray([stats.bernoulli.pmf(data,theta_) if (theta_ >= 0 and theta_ <= 1) else np.zeros(3) for theta_ in dom]).prod(axis=1)\n",
        "\n",
        "fig.add_subplot(122)\n",
        "plt.title(r\"Posterior density for $\\theta$\")\n",
        "plt.plot(dom,stats.uniform.pdf(dom)*likelihood/np.trapz(stats.uniform.pdf(dom)*likelihood,dom))\n",
        "plt.ylabel(\"Density\")\n",
        "plt.xlabel(r\"Possible valyes that $\\theta$ could take\")\n",
        "\n",
        "fig.subplots_adjust(wspace=0.5)\n",
        "plt.show()\n",
        "print(\"\\nPosterior mode:\", dom[np.argmax(stats.uniform.pdf(dom)*likelihood/np.trapz(stats.uniform.pdf(dom)*likelihood,dom))])\n",
        "print(\"The maximum likelihood estimate for \\u03F4 is 2/3, which matches with the mode \")"
      ],
      "execution_count": 44,
      "outputs": [
        {
          "output_type": "stream",
          "text": [
            "ϴ is the true population proportion of the number of people who carry a genetic marker\n",
            "\n"
          ],
          "name": "stdout"
        },
        {
          "output_type": "display_data",
          "data": {
            "image/png": "[encoded data removed]",
            "text/plain": [
              "<Figure size 1080x288 with 2 Axes>"
            ]
          },
          "metadata": {
            "tags": [],
            "needs_background": "light"
          }
        },
        {
          "output_type": "stream",
          "text": [
            "\n",
            "Posterior mode: 0.6666666666666667\n"
          ],
          "name": "stdout"
        }
      ]
    },
    {
      "cell_type": "code",
      "metadata": {
        "id": "2GROjR09PASZ",
        "colab_type": "code",
        "colab": {}
      },
      "source": [
        ""
      ],
      "execution_count": null,
      "outputs": []
    }
  ]
}