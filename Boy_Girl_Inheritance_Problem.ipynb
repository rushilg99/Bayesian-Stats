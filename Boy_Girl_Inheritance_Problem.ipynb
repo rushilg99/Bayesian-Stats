{
  "nbformat": 4,
  "nbformat_minor": 0,
  "metadata": {
    "colab": {
      "name": "Boy/Girl Inheritance Problem",
      "provenance": [],
      "collapsed_sections": [],
      "authorship_tag": "ABX9TyOg4HQj7UCZSpuvI8z5+gkY",
      "include_colab_link": true
    },
    "kernelspec": {
      "name": "python3",
      "display_name": "Python 3"
    }
  },
  "cells": [
    {
      "cell_type": "markdown",
      "metadata": {
        "id": "view-in-github",
        "colab_type": "text"
      },
      "source": [
        "<a href=\"https://colab.research.google.com/github/rushilg99/Statistical-Mainly-Bayesian-Inference/blob/master/Boy_Girl_Inheritance_Problem.ipynb\" target=\"_parent\"><img src=\"https://colab.research.google.com/assets/colab-badge.svg\" alt=\"Open In Colab\"/></a>"
      ]
    },
    {
      "cell_type": "code",
      "metadata": {
        "id": "6CPpfQsqgWv6"
      },
      "source": [
        "import numpy as np\n",
        "import pandas as pd\n",
        "import scipy.stats as stats"
      ],
      "execution_count": 1,
      "outputs": []
    },
    {
      "cell_type": "code",
      "metadata": {
        "id": "-HWUgYkMgha_"
      },
      "source": [
        "# Problem: A country has a rule in which a girl inherits all of their parents wealth upon their death.\n",
        "# Due to this rule, each married couple keeps having children until they have a girl. \n",
        "# When they have a girl, they stop having any more children.\n",
        "# Assuming an equal probability of having a girl and having a boy, what's the expected ratio of girls to boys in this country?\n"
      ],
      "execution_count": 2,
      "outputs": []
    },
    {
      "cell_type": "code",
      "metadata": {
        "id": "IPn_zyVriHzo"
      },
      "source": [
        "# Theoretical solution:\n",
        "# It suffices to consider the expected number of girls to boys for a single couple (by linearity of the expectation)\n",
        "# Model the births as a sequence of iid Bernoulli(1/2) trials with the birth of a girl \"a success\" and the birth of a boy \"a failure\"\n",
        "# Then the index N at which we first achieve a success has a Geometric(1/2) distribution. \n",
        "# Hence E[N] = (1/2)^-1 = 2\n",
        "# i.e. the family is expected to birth a girl the second time round.\n",
        "# Since this is the only birth of a girl, we expect E[N] - 1 boys to be born\n",
        "# Hence we expect to see a single girl born and E[N] - 1 = 2 - 1 = 1 boys to be born\n",
        "# Resulting in a 1:1 expected ratio of girls to boys in this country.\n",
        "# This is equivalent to saying that the expected proportion of boys to girls in the population is 1.\n",
        "\n",
        "\n",
        "# Uneven probabilities of boy/girl births will lead to a different solution"
      ],
      "execution_count": 3,
      "outputs": []
    },
    {
      "cell_type": "code",
      "metadata": {
        "id": "fJ2Mvk1Qlz9n",
        "colab": {
          "base_uri": "https://localhost:8080/"
        },
        "outputId": "2d4a28d6-0275-43ba-ac95-de2426759971"
      },
      "source": [
        "print(\"I seek to use a Monte-Carlo approximation to solve this problem.\")"
      ],
      "execution_count": 4,
      "outputs": [
        {
          "output_type": "stream",
          "text": [
            "I seek to use a Monte-Carlo approximation to solve this problem\n"
          ],
          "name": "stdout"
        }
      ]
    },
    {
      "cell_type": "code",
      "metadata": {
        "id": "mj0S_jSeouaq",
        "colab": {
          "base_uri": "https://localhost:8080/"
        },
        "outputId": "eb2a003f-f303-48c7-984f-f1dfc69c97d6"
      },
      "source": [
        "N = [10**i for i in range(0,9)]\n",
        "ratio = []\n",
        "\n",
        "for n in N:\n",
        "  indexGirlsBorn = stats.geom.rvs(0.5,size=n)\n",
        "  numBoys = indexGirlsBorn - 1\n",
        "  numBoysPop = sum(numBoys)\n",
        "  numGirlsPop = n \n",
        "  ratio.append(float(numBoysPop)/numGirlsPop)\n",
        "\n",
        "df = pd.DataFrame(data={\"N\":N,\"Boys per Girls ratio\":ratio})\n",
        "print(df)"
      ],
      "execution_count": 5,
      "outputs": [
        {
          "output_type": "stream",
          "text": [
            "           N  Boys per Girls ratio\n",
            "0          1              0.000000\n",
            "1         10              0.800000\n",
            "2        100              1.080000\n",
            "3       1000              0.940000\n",
            "4      10000              0.982400\n",
            "5     100000              0.999760\n",
            "6    1000000              1.001770\n",
            "7   10000000              0.999724\n",
            "8  100000000              1.000245\n"
          ],
          "name": "stdout"
        }
      ]
    },
    {
      "cell_type": "code",
      "metadata": {
        "colab": {
          "base_uri": "https://localhost:8080/"
        },
        "id": "GJnQJQW_RQGo",
        "outputId": "c8c23262-a698-4b37-b5c3-572532f23e5b"
      },
      "source": [
        "print(\"We see that as the number of samples increases, the ratio of boys to girls tends to 1 - as expected.\")"
      ],
      "execution_count": 7,
      "outputs": [
        {
          "output_type": "stream",
          "text": [
            "We see that as the number of samples increases, the ratio of boys to girls tends to 1 - as expected.\n"
          ],
          "name": "stdout"
        }
      ]
    },
    {
      "cell_type": "code",
      "metadata": {
        "id": "Wde3fnxvRsmt"
      },
      "source": [
        ""
      ],
      "execution_count": null,
      "outputs": []
    }
  ]
}