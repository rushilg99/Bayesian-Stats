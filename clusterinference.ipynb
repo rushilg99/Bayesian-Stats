{
  "nbformat": 4,
  "nbformat_minor": 0,
  "metadata": {
    "colab": {
      "name": "clusterinference.ipynb",
      "provenance": [],
      "collapsed_sections": [],
      "authorship_tag": "ABX9TyPTFk+Ae8QhBHawDFYVsc4e",
      "include_colab_link": true
    },
    "kernelspec": {
      "name": "python3",
      "display_name": "Python 3"
    }
  },
  "cells": [
    {
      "cell_type": "markdown",
      "metadata": {
        "id": "view-in-github",
        "colab_type": "text"
      },
      "source": [
        "<a href=\"https://colab.research.google.com/github/rushilg99/BayesianInference/blob/master/clusterinference.ipynb\" target=\"_parent\"><img src=\"https://colab.research.google.com/assets/colab-badge.svg\" alt=\"Open In Colab\"/></a>"
      ]
    },
    {
      "cell_type": "code",
      "metadata": {
        "id": "MNUzh9QCE6Tr",
        "colab_type": "code",
        "colab": {}
      },
      "source": [
        "import pymc3 as pm\n",
        "import matplotlib.pyplot as plt\n",
        "import pandas as pd\n",
        "import numpy as np\n",
        "import scipy.stats as stats\n",
        "import theano.tensor as tt"
      ],
      "execution_count": 1,
      "outputs": []
    },
    {
      "cell_type": "code",
      "metadata": {
        "id": "KRE1PcTUFKp0",
        "colab_type": "code",
        "colab": {}
      },
      "source": [
        "# DATA GENERATION\n",
        "\n",
        "# Our model won't see this\n",
        "# define probability p1 of being in cluster 1, p2 of being in cluster 2, p3 = 1-p1-p2 of being in cluster 3\n",
        "# suppose cluster1 ~ Normal(0,1), cluster2 ~ Normal(4,1), cluster3 ~ Normal(10,1.5)\n",
        "# take p1 = 0.5, p2 = 0.2, p3 = 0.3\n",
        "clusternums = np.random.choice(3,p=[0.3,0.4,0.3],size=500)\n",
        "data = []\n",
        "for i in clusternums:\n",
        "  if i == 0:\n",
        "    data.append(stats.norm.rvs(loc=0,scale=1))\n",
        "  elif i == 1:\n",
        "    data.append(stats.norm.rvs(loc=4,scale=1))\n",
        "  else:\n",
        "    data.append(stats.norm.rvs(loc=10,scale=1.5))\n",
        "\n",
        "data = pd.Series([data])"
      ],
      "execution_count": 7,
      "outputs": []
    },
    {
      "cell_type": "code",
      "metadata": {
        "id": "LRd0Fs3kKVKB",
        "colab_type": "code",
        "colab": {
          "base_uri": "https://localhost:8080/",
          "height": 281
        },
        "outputId": "56400758-80b7-44b9-af1b-86b99f24c0e6"
      },
      "source": [
        "fig, ax = plt.subplots(nrows=1,ncols=1)\n",
        "plt.title(\"Histogram of the data\")\n",
        "data.hist(bins=50, ax=ax)\n",
        "plt.show()"
      ],
      "execution_count": 9,
      "outputs": [
        {
          "output_type": "display_data",
          "data": {
            "image/png": "[encoded data removed]",
            "text/plain": [
              "<Figure size 432x288 with 1 Axes>"
            ]
          },
          "metadata": {
            "tags": [],
            "needs_background": "light"
          }
        }
      ]
    },
    {
      "cell_type": "code",
      "metadata": {
        "id": "lEqXdumcNLUk",
        "colab_type": "code",
        "colab": {}
      },
      "source": [
        "# From the data, we suspect that the data is in 3 separate clusters, each of which following normal distributions centred at 0, 5 and 10 respectively\n",
        "# Let's try and infer these parameters\n",
        "with pm.Model() as model:\n",
        "  # Model the data generation\n",
        "  p1 = pm.Uniform(\"p1\",0,0.5)\n",
        "  p2 = pm.Uniform(\"p2\",0,0.5)\n",
        "  p3 = pm.Deterministic(\"p3\",1-p1-p2)\n",
        "  p = tt.stack([p1,p2,p3])\n",
        "  catAssignment = pm.Categorical(\"catAssignment\",p,shape=len(data[0]),testval=np.random.randint(0,3,size=len(data[0])))"
      ],
      "execution_count": 10,
      "outputs": []
    },
    {
      "cell_type": "code",
      "metadata": {
        "id": "j9wfxNoTVQ7f",
        "colab_type": "code",
        "colab": {}
      },
      "source": [
        "with model:\n",
        "  # Priors\n",
        "  # Deal with the different normal distributions - want to estimate the mean and standard deviation of each - set priors\n",
        "  stds = pm.Uniform(\"stds\",0,100,shape=3)\n",
        "  means = pm.Normal(\"means\",mu=np.array([0,5,10]),sigma=np.array([10,10,10]), shape=3)\n",
        "\n",
        "  means_i = pm.Deterministic(\"means_i\", means[catAssignment])\n",
        "  sigma_i = pm.Deterministic(\"sigma_i\", stds[catAssignment])\n",
        "  # Observed Data\n",
        "  obs = pm.Normal(\"obs\", mu=means_i,sigma=sigma_i,observed=data[0])"
      ],
      "execution_count": 11,
      "outputs": []
    },
    {
      "cell_type": "code",
      "metadata": {
        "id": "TQZSs-K0VgMN",
        "colab_type": "code",
        "colab": {
          "base_uri": "https://localhost:8080/",
          "height": 225
        },
        "outputId": "d9fa04d9-1324-40b2-e079-ba37638be909"
      },
      "source": [
        "with model:\n",
        "  # Markov Chain Monte Carlo Sampling\n",
        "  step1 = pm.Metropolis(vars=tt.stack([p,stds,means]))\n",
        "  step2 = pm.CategoricalGibbsMetropolis(vars=[catAssignment])\n",
        "  trace = pm.sample(200000, step=[step1,step2], chains=2)\n"
      ],
      "execution_count": null,
      "outputs": [
        {
          "output_type": "stream",
          "text": [
            "Sequential sampling (2 chains in 1 job)\n",
            "CompoundStep\n",
            ">CompoundStep\n",
            ">>Metropolis: [p1]\n",
            ">>Metropolis: [p2]\n",
            ">>Metropolis: [stds]\n",
            ">>Metropolis: [means]\n",
            ">CategoricalGibbsMetropolis: [catAssignment]\n",
            "100%|██████████| 200500/200500 [56:29<00:00, 59.15it/s]\n",
            "100%|██████████| 200500/200500 [56:30<00:00, 59.14it/s]\n",
            "The gelman-rubin statistic is larger than 1.4 for some parameters. The sampler did not converge.\n",
            "The estimated number of effective samples is smaller than 200 for some parameters.\n"
          ],
          "name": "stderr"
        }
      ]
    },
    {
      "cell_type": "code",
      "metadata": {
        "id": "c-EHIqFR_NPu",
        "colab_type": "code",
        "colab": {
          "base_uri": "https://localhost:8080/",
          "height": 444
        },
        "outputId": "fffeecb3-5964-4d37-8289-1a9a536b7377"
      },
      "source": [
        "%matplotlib inline\n",
        "plt.figure(figsize=(13,7))\n",
        "plt.subplot(231)\n",
        "plt.title(\"Mean of the first Gaussian\")\n",
        "plt.hist(trace[\"means\"][:,0],bins=30)\n",
        "plt.subplot(232)\n",
        "plt.title(\"Mean of the second Gaussian\")\n",
        "plt.hist(trace[\"means\"][:,1],bins=30)\n",
        "plt.subplot(233)\n",
        "plt.title(\"Mean of the third Gaussian\")\n",
        "plt.hist(trace[\"means\"][:,2],bins=30)\n",
        "plt.subplot(234)\n",
        "plt.title(\"Std. Dev of the first Gaussian\")\n",
        "plt.hist(trace[\"stds\"][:,0],bins=30)\n",
        "plt.subplot(235)\n",
        "plt.title(\"Std. Dev of the second Gaussian\")\n",
        "plt.hist(trace[\"stds\"][:,1],bins=30)\n",
        "plt.subplot(236)\n",
        "plt.title(\"Std. Dev of the third Gaussian\")\n",
        "plt.hist(trace[\"stds\"][:,2],bins=30)\n",
        "plt.show()"
      ],
      "execution_count": null,
      "outputs": [
        {
          "output_type": "display_data",
          "data": {
            "image/png": "[encoded data removed]",
            "text/plain": [
              "<Figure size 936x504 with 6 Axes>"
            ]
          },
          "metadata": {
            "tags": [],
            "needs_background": "light"
          }
        }
      ]
    },
    {
      "cell_type": "code",
      "metadata": {
        "id": "h4uAXogXZ8ZT",
        "colab_type": "code",
        "colab": {}
      },
      "source": [
        ""
      ],
      "execution_count": null,
      "outputs": []
    }
  ]
}