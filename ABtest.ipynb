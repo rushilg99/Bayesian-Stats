{
  "nbformat": 4,
  "nbformat_minor": 0,
  "metadata": {
    "colab": {
      "name": "ABtest.ipynb",
      "provenance": [],
      "collapsed_sections": [],
      "authorship_tag": "ABX9TyMhMSaW7hjjxpH9VGEizsQF",
      "include_colab_link": true
    },
    "kernelspec": {
      "name": "python3",
      "display_name": "Python 3"
    }
  },
  "cells": [
    {
      "cell_type": "markdown",
      "metadata": {
        "id": "view-in-github",
        "colab_type": "text"
      },
      "source": [
        "<a href=\"https://colab.research.google.com/github/rushilg99/BayesianInference/blob/master/ABtest.ipynb\" target=\"_parent\"><img src=\"https://colab.research.google.com/assets/colab-badge.svg\" alt=\"Open In Colab\"/></a>"
      ]
    },
    {
      "cell_type": "code",
      "metadata": {
        "id": "ODo6N4qEsvlI",
        "colab_type": "code",
        "colab": {}
      },
      "source": [
        "# Consider the prospect of building a website and trying to find out whether or not a bigger button will improve sales.\n",
        "# Assume we create 2 different websites - one is the normal website (A) and the other is the normal website with a bigger button (B)\n",
        "# Maybe 2000 people are directed to each website.\n",
        "import pymc3 as pm\n",
        "import matplotlib.pyplot as plt\n",
        "import numpy as np\n",
        "import scipy.stats as stats"
      ],
      "execution_count": 1,
      "outputs": []
    },
    {
      "cell_type": "code",
      "metadata": {
        "id": "L4E7tUOLvURX",
        "colab_type": "code",
        "colab": {}
      },
      "source": [
        "# Let's generate the data first\n",
        "pA = 0.2 # True probability of buying a product from site A\n",
        "pB = 0.3 # True probability of buying a product from site B\n",
        "websiteA = stats.bernoulli.rvs(pA, size=2000)\n",
        "websiteB = stats.bernoulli.rvs(pB, size=2000)\n",
        "# The model DOES NOT see these probabilities, just the data."
      ],
      "execution_count": 2,
      "outputs": []
    },
    {
      "cell_type": "code",
      "metadata": {
        "id": "uOf4Qznrxfys",
        "colab_type": "code",
        "colab": {}
      },
      "source": [
        "with model as pm.Model():\n",
        "  # We are trying to estimate pA, pB and pB - pA\n",
        "  pA = pm.Uniform(\"pA\",0,1)\n",
        "  pB = pm.Uniform(\"pB\",0,1)\n",
        "  diff = pm.Deterministic(\"diff\", pB-pA)\n",
        "\n",
        "  obsA = pm.Bernoulli(\"obsA\",pA,observed=websiteA)\n",
        "  obsB = pm.Bernoulli(\"obsB\",pB,observed=websiteB)"
      ],
      "execution_count": null,
      "outputs": []
    }
  ]
}