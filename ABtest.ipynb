{
  "nbformat": 4,
  "nbformat_minor": 0,
  "metadata": {
    "colab": {
      "name": "ABtest.ipynb",
      "provenance": [],
      "collapsed_sections": [],
      "authorship_tag": "ABX9TyOL546IHO4ipHSSeV/ps0gh",
      "include_colab_link": true
    },
    "kernelspec": {
      "name": "python3",
      "display_name": "Python 3"
    }
  },
  "cells": [
    {
      "cell_type": "markdown",
      "metadata": {
        "id": "view-in-github",
        "colab_type": "text"
      },
      "source": [
        "<a href=\"https://colab.research.google.com/github/rushilg99/BayesianInference/blob/master/ABtest.ipynb\" target=\"_parent\"><img src=\"https://colab.research.google.com/assets/colab-badge.svg\" alt=\"Open In Colab\"/></a>"
      ]
    },
    {
      "cell_type": "code",
      "metadata": {
        "id": "ODo6N4qEsvlI",
        "colab_type": "code",
        "colab": {}
      },
      "source": [
        "# Consider the prospect of building a website and trying to find out whether or not a bigger button will improve sales.\n",
        "# Assume we create 2 different websites - one is the normal website (A) and the other is the normal website with a bigger button (B)\n",
        "# Maybe 2000 people are directed to each website.\n",
        "import pymc3 as pm\n",
        "import matplotlib.pyplot as plt\n",
        "import numpy as np\n",
        "import scipy.stats as stats"
      ],
      "execution_count": 14,
      "outputs": []
    },
    {
      "cell_type": "code",
      "metadata": {
        "id": "L4E7tUOLvURX",
        "colab_type": "code",
        "colab": {}
      },
      "source": [
        "# Let's generate the data first\n",
        "pA = 0.2 # True probability of buying a product from site A\n",
        "pB = 0.3 # True probability of buying a product from site B\n",
        "websiteA = stats.bernoulli.rvs(pA, size=2000)\n",
        "websiteB = stats.bernoulli.rvs(pB, size=2000)\n",
        "# The model DOES NOT see these probabilities, just the data."
      ],
      "execution_count": 15,
      "outputs": []
    },
    {
      "cell_type": "code",
      "metadata": {
        "id": "uOf4Qznrxfys",
        "colab_type": "code",
        "colab": {
          "base_uri": "https://localhost:8080/",
          "height": 492
        },
        "outputId": "fdddc1fc-3123-474f-f5a1-fc335b11d4b9"
      },
      "source": [
        "with pm.Model() as model:\n",
        "  # We are trying to estimate pA, pB and pB - pA\n",
        "  pA = pm.Uniform(\"pA\",0,1)\n",
        "  pB = pm.Uniform(\"pB\",0,1)\n",
        "  diff = pm.Deterministic(\"diff\", pB-pA)\n",
        "\n",
        "  obsA = pm.Bernoulli(\"obsA\",pA,observed=websiteA)\n",
        "  obsB = pm.Bernoulli(\"obsB\",pB,observed=websiteB)\n",
        "\n",
        "  # Monte Carlo sampling\n",
        "  step = pm.Metropolis()\n",
        "  trace = pm.sample(30000,step=step)\n",
        "\n",
        "pAtrace = trace[\"pA\"]\n",
        "pBtrace = trace[\"pB\"]\n",
        "diffTrace = trace[\"diff\"]\n",
        "\n",
        "print(\"\\n\")\n",
        "fig = plt.figure(figsize=(15,5))\n",
        "plt.subplot(131)\n",
        "plt.title(\"Posterior distribution for pA\")\n",
        "plt.hist(pAtrace,bins=30)\n",
        "plt.subplot(132)\n",
        "plt.title(\"Posterior distribution for pB\")\n",
        "plt.hist(pBtrace,bins=30)\n",
        "plt.subplot(133)\n",
        "plt.title(\"Posterior distribution for pB-pA\")\n",
        "plt.hist(diffTrace,bins=30)\n",
        "\n",
        "plt.subplots_adjust(hspace=5)\n",
        "plt.show()"
      ],
      "execution_count": 17,
      "outputs": [
        {
          "output_type": "stream",
          "text": [
            "Sequential sampling (2 chains in 1 job)\n",
            "CompoundStep\n",
            ">Metropolis: [pB]\n",
            ">Metropolis: [pA]\n",
            "100%|██████████| 30500/30500 [00:11<00:00, 2770.47it/s]\n",
            "100%|██████████| 30500/30500 [00:10<00:00, 2777.04it/s]\n",
            "The number of effective samples is smaller than 10% for some parameters.\n"
          ],
          "name": "stderr"
        },
        {
          "output_type": "stream",
          "text": [
            "\n",
            "\n"
          ],
          "name": "stdout"
        },
        {
          "output_type": "display_data",
          "data": {
            "image/png": "[encoded data removed]",
            "text/plain": [
              "<Figure size 1080x360 with 3 Axes>"
            ]
          },
          "metadata": {
            "tags": [],
            "needs_background": "light"
          }
        }
      ]
    },
    {
      "cell_type": "markdown",
      "metadata": {
        "id": "CglV-hwa_7Qi",
        "colab_type": "text"
      },
      "source": [
        "We can see that our posterior distribution for $p_{B}-p_{A}$ is greater than zero, suggesting that our website B is better than our website A. But we may need to do some hypothesis testing to verify this."
      ]
    },
    {
      "cell_type": "code",
      "metadata": {
        "id": "0Y8vOvUB20gM",
        "colab_type": "code",
        "colab": {}
      },
      "source": [
        ""
      ],
      "execution_count": null,
      "outputs": []
    }
  ]
}