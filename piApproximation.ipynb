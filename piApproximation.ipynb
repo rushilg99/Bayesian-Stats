{
  "nbformat": 4,
  "nbformat_minor": 0,
  "metadata": {
    "colab": {
      "name": "piApproximation.ipynb",
      "provenance": [],
      "authorship_tag": "ABX9TyOJPpAkb7980O9pyOc80/po",
      "include_colab_link": true
    },
    "kernelspec": {
      "name": "python3",
      "display_name": "Python 3"
    }
  },
  "cells": [
    {
      "cell_type": "markdown",
      "metadata": {
        "id": "view-in-github",
        "colab_type": "text"
      },
      "source": [
        "<a href=\"https://colab.research.google.com/github/rushilg99/BayesianInference/blob/master/piApproximation.ipynb\" target=\"_parent\"><img src=\"https://colab.research.google.com/assets/colab-badge.svg\" alt=\"Open In Colab\"/></a>"
      ]
    },
    {
      "cell_type": "code",
      "metadata": {
        "id": "o0ec1j4iYNPt",
        "colab_type": "code",
        "colab": {}
      },
      "source": [
        "import numpy as np\n",
        "import matplotlib.pyplot as plt\n",
        "import scipy.stats as stats"
      ],
      "execution_count": 1,
      "outputs": []
    },
    {
      "cell_type": "code",
      "metadata": {
        "id": "GOPqZ5uXYUPx",
        "colab_type": "code",
        "colab": {
          "base_uri": "https://localhost:8080/",
          "height": 283
        },
        "outputId": "aad74337-a1cc-4fe7-cc72-17747ba3a9c0"
      },
      "source": [
        "# We know that the area of a circle of radius 1 is \\pi units^2\n",
        "# First let's plot this circle contained in a square with sides of length 2\n",
        "domain = np.linspace(-1,1,1000)\n",
        "\n",
        "posCircle = np.sqrt(1-np.square(domain))\n",
        "negCircle = -posCircle \n",
        "\n",
        "plt.title(r\"Plot of the unit balls $B_{2}(0,1)$ and $B_{1}(0,1)$\")\n",
        "# circle\n",
        "plt.plot(domain,posCircle, color=\"orange\")\n",
        "plt.plot(domain,negCircle, color=\"orange\")\n",
        "# square\n",
        "plt.plot(domain, -np.ones(shape=len(domain)), color=\"k\")\n",
        "plt.plot(domain, np.ones(shape=len(domain)), color=\"k\")\n",
        "plt.plot(-np.ones(shape=len(domain)), domain, color=\"k\")\n",
        "plt.plot(np.ones(shape=len(domain)), domain, color=\"k\")\n",
        "plt.show()"
      ],
      "execution_count": 2,
      "outputs": [
        {
          "output_type": "display_data",
          "data": {
            "image/png": "[encoded data removed]",
            "text/plain": [
              "<Figure size 432x288 with 1 Axes>"
            ]
          },
          "metadata": {
            "tags": [],
            "needs_background": "light"
          }
        }
      ]
    },
    {
      "cell_type": "code",
      "metadata": {
        "id": "Xo23wTftdl3Q",
        "colab_type": "code",
        "colab": {
          "base_uri": "https://localhost:8080/",
          "height": 173
        },
        "outputId": "ec69b38d-240a-458c-98cc-2b8d77e53f52"
      },
      "source": [
        "print(\"N\",\"|\",\"4*#circle/#square\",\"|\",\"Distance from pi\", \"|\", \"EOC\")\n",
        "print(\"-----------------------------------------------\")\n",
        "for N in [10,100,1000,10000,100000,1000000,10000000]:\n",
        "  count = 0\n",
        "  data = stats.uniform.rvs(size=(N,2))\n",
        "  for coord in data:\n",
        "    if (coord[0]**2 + coord[1]**2) < 1:\n",
        "      count += 1\n",
        "  ratio = 4*count/float(N)\n",
        "  dist = abs(ratio-np.pi)\n",
        "  print(str(N),\"|\",str(ratio),\"|\",str(dist),\"|\")\n",
        "  if N != 10:\n",
        "    eoc = (np.log(dist) - np.log(oldDist))/(N-oldN)\n",
        "    print(\"\\b \"+str(eoc))\n",
        "  oldDist = dist\n",
        "  oldN = N\n"
      ],
      "execution_count": 3,
      "outputs": [
        {
          "output_type": "stream",
          "text": [
            "N | 4*#circle/#square | Distance from pi | EOC\n",
            "-----------------------------------------------\n",
            "10 | 3.6 | 0.458407346410207 |\n",
            "100 | 3.16 | 0.018407346410207026 |\n",
            "\b -0.03572231494574209\n",
            "1000 | 3.124 | 0.017592653589793006 |\n",
            "\b -5.0298267913348026e-05\n",
            "10000 | 3.1132 | 0.02839265358979315 |\n",
            "\b 5.3183225561702605e-05\n",
            "100000 | 3.1426 | 0.001007346410206722 |\n",
            "\b -3.709789865018102e-05\n",
            "1000000 | 3.140212 | 0.0013806535897931127 |\n",
            "\b 3.502638289644939e-07\n",
            "10000000 | 3.1414124 | 0.00018025358979301132 |\n",
            "\b -2.2621639891357247e-07\n"
          ],
          "name": "stdout"
        }
      ]
    },
    {
      "cell_type": "code",
      "metadata": {
        "id": "SD1qT9X0iaXf",
        "colab_type": "code",
        "colab": {}
      },
      "source": [
        ""
      ],
      "execution_count": 3,
      "outputs": []
    }
  ]
}