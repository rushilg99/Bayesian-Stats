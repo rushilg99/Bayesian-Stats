{
  "nbformat": 4,
  "nbformat_minor": 0,
  "metadata": {
    "colab": {
      "name": "clusterinference.ipynb",
      "provenance": [],
      "collapsed_sections": [],
      "authorship_tag": "ABX9TyMZNfEs6QGJbBNF+icuT8ru"
    },
    "kernelspec": {
      "name": "python3",
      "display_name": "Python 3"
    }
  },
  "cells": [
    {
      "cell_type": "code",
      "metadata": {
        "id": "MNUzh9QCE6Tr",
        "colab_type": "code",
        "colab": {}
      },
      "source": [
        "import pymc3 as pm\n",
        "import matplotlib.pyplot as plt\n",
        "import pandas as pd\n",
        "import numpy as np\n",
        "import scipy.stats as stats\n",
        "import theano.tensor as tt"
      ],
      "execution_count": 10,
      "outputs": []
    },
    {
      "cell_type": "code",
      "metadata": {
        "id": "KRE1PcTUFKp0",
        "colab_type": "code",
        "colab": {}
      },
      "source": [
        "# DATA GENERATION\n",
        "\n",
        "# Our model won't see this\n",
        "# define probability p1 of being in cluster 1, p2 of being in cluster 2, p3 = 1-p1-p2 of being in cluster 3\n",
        "# suppose cluster1 ~ Normal(0,1), cluster2 ~ Normal(4,1), cluster3 ~ Normal(8,1.5)\n",
        "# take p1 = 0.5, p2 = 0.2, p3 = 0.3\n",
        "clusternums = np.random.choice(3,p=[0.3,0.4,0.3],size=100)\n",
        "data = []\n",
        "for i in clusternums:\n",
        "  if i == 0:\n",
        "    data.append(stats.norm.rvs(loc=0,scale=1))\n",
        "  elif i == 1:\n",
        "    data.append(stats.norm.rvs(loc=4,scale=1))\n",
        "  else:\n",
        "    data.append(stats.norm.rvs(loc=10,scale=1.5))\n",
        "\n",
        "data = pd.Series([data])"
      ],
      "execution_count": 11,
      "outputs": []
    },
    {
      "cell_type": "code",
      "metadata": {
        "id": "LRd0Fs3kKVKB",
        "colab_type": "code",
        "colab": {
          "base_uri": "https://localhost:8080/",
          "height": 281
        },
        "outputId": "67f7858e-191d-4cea-de76-d064eacce267"
      },
      "source": [
        "fig, ax = plt.subplots(nrows=1,ncols=1)\n",
        "plt.title(\"Histogram of the data\")\n",
        "data.hist(bins=40, ax=ax)\n",
        "plt.show()"
      ],
      "execution_count": 12,
      "outputs": [
        {
          "output_type": "display_data",
          "data": {
            "image/png": "[encoded data removed]",
            "text/plain": [
              "<Figure size 432x288 with 1 Axes>"
            ]
          },
          "metadata": {
            "tags": [],
            "needs_background": "light"
          }
        }
      ]
    },
    {
      "cell_type": "code",
      "metadata": {
        "id": "lEqXdumcNLUk",
        "colab_type": "code",
        "colab": {}
      },
      "source": [
        "# From the data, we suspect that the data is in 3 separate clusters, each of which following normal distributions centred at 0, 4 and 10 respectively\n",
        "# Let's try and infer these parameters\n",
        "with pm.Model() as model:\n",
        "  # Model the data generation\n",
        "  p1 = pm.Uniform(\"p1\",0,0.5)\n",
        "  p2 = pm.Uniform(\"p2\",0,0.5)\n",
        "  p3 = pm.Deterministic(\"p3\",1-p1-p2)\n",
        "  p = tt.stack([p1,p2,p3])\n",
        "  catAssignment = pm.Categorical(\"catAssignment\",p,shape=len(data[0]),testval=np.random.randint(0,3,size=len(data[0])))"
      ],
      "execution_count": 13,
      "outputs": []
    },
    {
      "cell_type": "code",
      "metadata": {
        "id": "j9wfxNoTVQ7f",
        "colab_type": "code",
        "colab": {}
      },
      "source": [
        "with model:\n",
        "  # Priors\n",
        "  # Deal with the different normal distributions - want to estimate the mean and standard deviation of each - set priors\n",
        "  stds = pm.Uniform(\"stds\",0,10,shape=3)\n",
        "  means = pm.Normal(\"means\",mu=np.array([0,5,10]),sigma=np.array([1,1,1]), shape=3)\n",
        "\n",
        "  means_i = pm.Deterministic(\"means_i\", means[catAssignment])\n",
        "  sigma_i = pm.Deterministic(\"sigma_i\", stds[catAssignment])\n",
        "  # Observed Data\n",
        "  obs = pm.Normal(\"obs\", mu=means_i,sigma=sigma_i,observed=data[0])"
      ],
      "execution_count": 14,
      "outputs": []
    },
    {
      "cell_type": "code",
      "metadata": {
        "id": "TQZSs-K0VgMN",
        "colab_type": "code",
        "colab": {
          "base_uri": "https://localhost:8080/",
          "height": 208
        },
        "outputId": "decccbf1-d115-4562-af26-649d7f698f0e"
      },
      "source": [
        "with model:\n",
        "  # Markov Chain Monte Carlo Sampling\n",
        "  step1 = pm.Metropolis(vars=tt.stack([p,stds,means]))\n",
        "  step2 = pm.CategoricalGibbsMetropolis(vars=[catAssignment])\n",
        "  trace = pm.sample(50000, step=[step1,step2], chains=2)\n"
      ],
      "execution_count": 15,
      "outputs": [
        {
          "output_type": "stream",
          "text": [
            "Sequential sampling (2 chains in 1 job)\n",
            "CompoundStep\n",
            ">CompoundStep\n",
            ">>Metropolis: [p1]\n",
            ">>Metropolis: [p2]\n",
            ">>Metropolis: [stds]\n",
            ">>Metropolis: [means]\n",
            ">CategoricalGibbsMetropolis: [catAssignment]\n",
            "100%|██████████| 50500/50500 [09:01<00:00, 93.19it/s]\n",
            "100%|██████████| 50500/50500 [09:02<00:00, 93.01it/s]\n",
            "The number of effective samples is smaller than 10% for some parameters.\n"
          ],
          "name": "stderr"
        }
      ]
    },
    {
      "cell_type": "code",
      "metadata": {
        "id": "c-EHIqFR_NPu",
        "colab_type": "code",
        "colab": {
          "base_uri": "https://localhost:8080/",
          "height": 444
        },
        "outputId": "1b93c471-91aa-4533-bfde-41896739205b"
      },
      "source": [
        "%matplotlib inline\n",
        "plt.figure(figsize=(13,7))\n",
        "plt.subplot(231)\n",
        "plt.title(\"Mean of the first Gaussian\")\n",
        "plt.hist(trace[\"means\"][:,0],bins=30)\n",
        "plt.subplot(232)\n",
        "plt.title(\"Mean of the second Gaussian\")\n",
        "plt.hist(trace[\"means\"][:,1],bins=30)\n",
        "plt.subplot(233)\n",
        "plt.title(\"Mean of the third Gaussian\")\n",
        "plt.hist(trace[\"means\"][:,2],bins=30)\n",
        "plt.subplot(234)\n",
        "plt.title(\"Std. Dev of the first Gaussian\")\n",
        "plt.hist(trace[\"stds\"][:,0],bins=30)\n",
        "plt.subplot(235)\n",
        "plt.title(\"Std. Dev of the second Gaussian\")\n",
        "plt.hist(trace[\"stds\"][:,1],bins=30)\n",
        "plt.subplot(236)\n",
        "plt.title(\"Std. Dev of the third Gaussian\")\n",
        "plt.hist(trace[\"stds\"][:,2],bins=30)\n",
        "plt.show()"
      ],
      "execution_count": 16,
      "outputs": [
        {
          "output_type": "display_data",
          "data": {
            "image/png": "[encoded data removed]",
            "text/plain": [
              "<Figure size 936x504 with 6 Axes>"
            ]
          },
          "metadata": {
            "tags": [],
            "needs_background": "light"
          }
        }
      ]
    },
    {
      "cell_type": "code",
      "metadata": {
        "id": "h4uAXogXZ8ZT",
        "colab_type": "code",
        "colab": {}
      },
      "source": [
        ""
      ],
      "execution_count": null,
      "outputs": []
    }
  ]
}
